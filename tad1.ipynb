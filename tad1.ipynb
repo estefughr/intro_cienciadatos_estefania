{
  "nbformat": 4,
  "nbformat_minor": 0,
  "metadata": {
    "colab": {
      "provenance": []
    },
    "kernelspec": {
      "name": "python3",
      "display_name": "Python 3"
    },
    "language_info": {
      "name": "python"
    }
  },
  "cells": [
    {
      "cell_type": "markdown",
      "source": [
        "# **Mi primer Jupyter Notebook en Google Colab...**"
      ],
      "metadata": {
        "id": "sD44hMzQdfta"
      }
    },
    {
      "cell_type": "markdown",
      "source": [
        "Vamos a mantener la misma estructura en todas las tareas: la primera celda va a ser para marcar la tarea con su nombre"
      ],
      "metadata": {
        "id": "f6wNSumgZcKT"
      }
    },
    {
      "cell_type": "code",
      "source": [
        "#tad1.ipynb\n",
        "#Nombre:"
      ],
      "metadata": {
        "id": "2dqKglq8d_p9"
      },
      "execution_count": null,
      "outputs": []
    },
    {
      "cell_type": "markdown",
      "source": [
        "python es ampliamente usado gracias a su estructura modular; únicamente cargamos los modulos (scripts o funciones prediseñadas) que vamos a usar..."
      ],
      "metadata": {
        "id": "_pjFO66PVaoX"
      }
    },
    {
      "cell_type": "code",
      "source": [
        "#importar los modulos que vamos a usar\n",
        "\n",
        "import numpy as np"
      ],
      "metadata": {
        "id": "_w5BkjxfeBeN"
      },
      "execution_count": null,
      "outputs": []
    },
    {
      "cell_type": "code",
      "execution_count": null,
      "metadata": {
        "colab": {
          "base_uri": "https://localhost:8080/"
        },
        "id": "skdIAz9xdXY3",
        "outputId": "76e839ca-403f-47e2-f07e-a9926c530d16"
      },
      "outputs": [
        {
          "output_type": "stream",
          "name": "stdout",
          "text": [
            "[1, 2, 3]\n",
            "[0. 0. 0. 0. 0. 0. 0. 0. 0. 0.]\n"
          ]
        }
      ],
      "source": [
        "#definir variables\n",
        "arrayA=[1,2,3,4]\n",
        "print(A)\n",
        "\n",
        "arrayB=np.zeros(10)\n",
        "print(arrayB)"
      ]
    },
    {
      "cell_type": "code",
      "source": [
        "arrayC=np.matrix('1 2; 3 4')\n",
        "arrayD=np.matrix([[1, 2], [3, 4]])\n",
        "arrayE=np.zeros((2,2))\n",
        "\n",
        "print(arrayC)\n",
        "print(arrayD)\n",
        "print(arrayE)"
      ],
      "metadata": {
        "colab": {
          "base_uri": "https://localhost:8080/"
        },
        "id": "Q48lRZQEgh_z",
        "outputId": "580ee7d9-143b-4f50-b15c-1d81b6433176"
      },
      "execution_count": null,
      "outputs": [
        {
          "output_type": "stream",
          "name": "stdout",
          "text": [
            "[[1 2]\n",
            " [3 4]]\n",
            "[[1 2]\n",
            " [3 4]]\n",
            "[[0. 0.]\n",
            " [0. 0.]]\n"
          ]
        }
      ]
    },
    {
      "cell_type": "markdown",
      "source": [
        "# tarea - primera parte\n",
        "¿Se pueden sumar vectores y matrices? ¿Se pueden multiplicar? *Ejecute cada una de las siguientes operaciones en una celda independiente\n",
        "\n",
        "\n",
        "\n",
        "1.   sumar los arreglos A y B\n",
        "2.   multiplicar arreglos A y B\n",
        "3.   sumar los arreglos C y D\n",
        "4.   multiplicar arreglos C y D\n",
        "5.   sumar los arreglos A y C\n",
        "6.   multiplicar arreglos A y C\n",
        "\n",
        "\n"
      ],
      "metadata": {
        "id": "Dvjp5P7BhAvQ"
      }
    },
    {
      "cell_type": "code",
      "source": [],
      "metadata": {
        "id": "w9XwPuWxh8CA"
      },
      "execution_count": null,
      "outputs": []
    },
    {
      "cell_type": "code",
      "source": [
        "arrayF = np.arange(0, 1.1, 0.1)\n",
        "arrayG = np.linspace(0,2,9)\n",
        "\n",
        "print(arrayF)\n",
        "print(arrayG)"
      ],
      "metadata": {
        "colab": {
          "base_uri": "https://localhost:8080/"
        },
        "id": "5VWFTruQh8w7",
        "outputId": "d6dc0a63-da7e-4afa-a56c-b40503bde354"
      },
      "execution_count": null,
      "outputs": [
        {
          "output_type": "stream",
          "name": "stdout",
          "text": [
            "[0.  0.1 0.2 0.3 0.4 0.5 0.6 0.7 0.8 0.9 1. ]\n",
            "[0.   0.25 0.5  0.75 1.   1.25 1.5  1.75 2.  ]\n"
          ]
        }
      ]
    },
    {
      "cell_type": "markdown",
      "source": [
        "# tarea - segunda parte\n",
        "Ahora vamos a usar la ley de Hooke generalizada (ecuación de la última diapositiva de la clase 2) para estimar el tensor de esfuerzos \"S\", correspondiente al estado de esfuerzos en un punto, dado por el tesor de deformaciones \"Ε\" que se muestra a continuación.\n",
        "\n",
        "*Ejecute cada una de las operaciones (definir las variables y hacer el/los cálculo necesarios) en una celda independiente\n",
        "\n",
        "**Asuma que los valores del tensor de coeficientes elásticos \"C\" son todos iguales a 1"
      ],
      "metadata": {
        "id": "A3IoDzTNb_FS"
      }
    },
    {
      "cell_type": "markdown",
      "source": [
        "E=\n",
        "\\begin{bmatrix}\n",
        "-4 & 4 & 3\\\\\n",
        "4 & -2 & -2\\\\\n",
        "3 & -2 & -3\n",
        "\\end{bmatrix}\n"
      ],
      "metadata": {
        "id": "8k1SulfbcBgf"
      }
    },
    {
      "cell_type": "code",
      "source": [],
      "metadata": {
        "id": "xUQ27chQcB37"
      },
      "execution_count": null,
      "outputs": []
    },
    {
      "cell_type": "markdown",
      "source": [
        "# tarea - tercera parte\n",
        "¿cuál es el valor de la compoennte S23 del tensor de esfuerzos?"
      ],
      "metadata": {
        "id": "aDyTUJelKGww"
      }
    },
    {
      "cell_type": "markdown",
      "source": [
        "Respuesta tercera parte:"
      ],
      "metadata": {
        "id": "CqV2y3NPKT6f"
      }
    }
  ]
}