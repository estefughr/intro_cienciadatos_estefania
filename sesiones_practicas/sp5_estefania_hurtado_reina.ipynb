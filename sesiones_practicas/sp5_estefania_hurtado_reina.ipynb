{
  "cells": [
    {
      "cell_type": "markdown",
      "id": "f025f633",
      "metadata": {
        "id": "f025f633"
      },
      "source": [
        "**Antes de aplicar cualquier técnica de imputación, analiza el tipo de variable (numérica, categórica o temporal) y evalúa el impacto que la imputación puede tener sobre los análisis posteriores o los modelos predictivos.**\n",
        "\n",
        "> **Funciones destacadas utilizadas**\n",
        "\n",
        "| **Función / Método** | **Descripción** | **Ejemplo de uso** |\n",
        "|-----------------------|----------------|--------------------|\n",
        "| `pd.to_datetime()` | Convierte una columna a formato de fecha, permitiendo el manejo de valores no válidos. | `df['A'] = pd.to_datetime(df['A'], errors='coerce')` |\n",
        "| `.isnull()` / `.sum()` | Identifica y contabiliza valores faltantes. | `df.isnull().sum()` |\n",
        "| `.apply()` | Permite aplicar funciones personalizadas a columnas. | `df['A'] = df['A'].apply(lambda x: np.nan if x < 0 else x)` |\n",
        "| `.fillna()` | Imputa valores faltantes con un valor específico o estadístico. | `df['A'] = df['A'].fillna(df['A'].median())` |\n",
        "| `.mode()` | Obtiene el valor más frecuente de una columna (moda). | `df['A'].fillna(df['A'].mode()[0])` |\n",
        "| `.interpolate()` | Rellena valores numéricos faltantes mediante interpolación lineal. | `df['A'] = df['A'].interpolate(method='linear')` |\n",
        "| `.ffill()` / `.bfill()` | Rellena valores faltantes propagando el último valor válido hacia adelante o hacia atrás. | `df['A'] = df['A'].ffill()` |\n",
        "| `df.duplicated(keep=False)` | Detecta registros duplicados en el DataFrame, mostrando `True` para todas las repeticiones. | `df[df.duplicated(keep=False)]` |\n",
        "| `get_close_matches()` | Busca coincidencias aproximadas entre cadenas para detectar errores tipográficos o categorías similares. | `from difflib import get_close_matches`<br>`get_close_matches('Medelin', ['Medellín', 'Bogotá', 'Cali'])` |\n",
        "| `pd.concat()` | Combina series o DataFrames para comparación o unión de resultados. | `pd.concat([faltantes_antes, faltantes_despues], axis=1)` |\n",
        "| `missingno` | Visualización gráfica de valores faltantes. | `import missingno as msno` |\n",
        "| `sklearn.impute` | Imputación avanzada (KNN, media, mediana, constante). | `from sklearn.impute import SimpleImputer` |\n",
        "\n"
      ]
    },
    {
      "cell_type": "markdown",
      "id": "06cd21aa",
      "metadata": {
        "id": "06cd21aa"
      },
      "source": [
        "## <span style=\"color:#2F749F;\"><strong>Ejercicio 1. Limpieza e imputación de un conjunto de datos mixto</strong></span>\n",
        "\n",
        "#### <span style=\"color:#2F749F;\"><strong>📋 Instrucciones</strong></span>\n",
        "\n",
        "1. Crea el DataFrame base **df** ejecutando el siguiente código:\n",
        "    ```python\n",
        "    df = pd.DataFrame({\n",
        "        'Nombre': ['Ana', 'Luis', 'Pedro', None, 'Marta', 'Luis', 'Sofía'],\n",
        "        'Edad': [25, np.nan, 35, 29, -5, 25, None],\n",
        "        'Ciudad': ['Bogotá', 'Medellín', None, 'Medellín', 'Cali', 'Bogotá', 'Cali'],\n",
        "        'Ingreso': [3500, 4800, np.nan, 5200, 5100, np.nan, 4700],\n",
        "        'FechaIngreso': ['2023-01-01', '2023-01-05', None, '2023-01-10', '2023-01-12', None, '2023-01-15']\n",
        "    })\n",
        "\n",
        "2. En un nuevo notebook, aplica las etapas del proceso de limpieza e imputación de datos que consideres necesarias sobre el DataFrame df. Ten encuenta incluir:\n",
        "    - Código correctamente comentado y ejecutado.\n",
        "    - Explicaciones breves de cada paso.\n",
        "    - Resultados visuales o estadísticos que evidencien las transformaciones."
      ]
    },
    {
      "cell_type": "code",
      "source": [
        "import pandas as pd\n",
        "import numpy as np"
      ],
      "metadata": {
        "id": "L3cuU0IeTUam"
      },
      "id": "L3cuU0IeTUam",
      "execution_count": 89,
      "outputs": []
    },
    {
      "cell_type": "code",
      "source": [
        "df = pd.DataFrame({\n",
        "        'Nombre': ['Ana', 'Luis', 'Pedro', None, 'Marta', 'Luis', 'Sofía'],\n",
        "        'Edad': [25, np.nan, 35, 29, -5, 25, None],\n",
        "        'Ciudad': ['Bogotá', 'Medellín', None, 'Medellín', 'Cali', 'Bogotá', 'Cali'],\n",
        "        'Ingreso': [3500, 4800, np.nan, 5200, 5100, np.nan, 4700],\n",
        "        'FechaIngreso': ['2023-01-01', '2023-01-05', None, '2023-01-10', '2023-01-12', None, '2023-01-15']\n",
        "    })\n",
        "print(df)"
      ],
      "metadata": {
        "colab": {
          "base_uri": "https://localhost:8080/"
        },
        "id": "Q_QFKtbpUA6V",
        "outputId": "660c6a30-ee18-43a7-8675-e4a2a6607462"
      },
      "id": "Q_QFKtbpUA6V",
      "execution_count": 90,
      "outputs": [
        {
          "output_type": "stream",
          "name": "stdout",
          "text": [
            "  Nombre  Edad    Ciudad  Ingreso FechaIngreso\n",
            "0    Ana  25.0    Bogotá   3500.0   2023-01-01\n",
            "1   Luis   NaN  Medellín   4800.0   2023-01-05\n",
            "2  Pedro  35.0      None      NaN         None\n",
            "3   None  29.0  Medellín   5200.0   2023-01-10\n",
            "4  Marta  -5.0      Cali   5100.0   2023-01-12\n",
            "5   Luis  25.0    Bogotá      NaN         None\n",
            "6  Sofía   NaN      Cali   4700.0   2023-01-15\n"
          ]
        }
      ]
    },
    {
      "cell_type": "code",
      "source": [
        "# Remplazar valores nulos en 'Nombre' por 'No identificado'\n",
        "df['Nombre'] = df['Nombre'].fillna('No identificado')"
      ],
      "metadata": {
        "id": "390EHqvYY0ZY"
      },
      "id": "390EHqvYY0ZY",
      "execution_count": 91,
      "outputs": []
    },
    {
      "cell_type": "code",
      "source": [
        "# Reemplazar valores negativos en 'Edad' por np.nan\n",
        "# Si x < 0, devuelve np.nan, sino, devuelve x (el valor original).\n",
        "df['Edad'] = df['Edad'].apply(lambda x: np.nan if x < 0 else x)\n",
        "\n",
        "# Imputar 'Edad' con Interpolación Lineal\n",
        "#Las edades están en un rango entre 25 a 35, por lo que pareciera que no varían demasiado\n",
        "#Podemos estar hablando de ingreso de dinero = población trabajadora joven\n",
        "df['Edad'] = df['Edad'].interpolate(method='linear')\n",
        "\n",
        "print(df)"
      ],
      "metadata": {
        "colab": {
          "base_uri": "https://localhost:8080/"
        },
        "id": "9BaIDDPoUwi5",
        "outputId": "9f9176c9-c58b-41e4-f2aa-f298b53ae56b"
      },
      "id": "9BaIDDPoUwi5",
      "execution_count": 92,
      "outputs": [
        {
          "output_type": "stream",
          "name": "stdout",
          "text": [
            "            Nombre  Edad    Ciudad  Ingreso FechaIngreso\n",
            "0              Ana  25.0    Bogotá   3500.0   2023-01-01\n",
            "1             Luis  30.0  Medellín   4800.0   2023-01-05\n",
            "2            Pedro  35.0      None      NaN         None\n",
            "3  No identificado  29.0  Medellín   5200.0   2023-01-10\n",
            "4            Marta  27.0      Cali   5100.0   2023-01-12\n",
            "5             Luis  25.0    Bogotá      NaN         None\n",
            "6            Sofía  25.0      Cali   4700.0   2023-01-15\n"
          ]
        }
      ]
    },
    {
      "cell_type": "code",
      "source": [
        "# Convertir 'FechaIngreso' a datetime para que None sean 'NaT'\n",
        "df['FechaIngreso'] = pd.to_datetime(df['FechaIngreso'], errors='coerce')\n",
        "\n",
        "#Identificar y eliminar filas con ingreso y fecha de ingreso sin valor (doble nulo):\n",
        "#se asume que no hubo ingreso si ambos se cumplen entonces no hay información reelevante\n",
        "\n",
        "# Crear una máscara booleana (True donde se cumple la condición)\n",
        "# La condición es: (Ingreso es nulo) Y (FechaIngreso es nulo)\n",
        "condicion_doble_nulo = (df['Ingreso'].isna()) & (df['FechaIngreso'].isna())\n",
        "\n",
        "# Usar el operador ~ (negación) para seleccionar las filas que no cumplen\n",
        "# la condición de doble nulo y borra las filas que sí la cumplen.\n",
        "df_limpieza1 = df[~condicion_doble_nulo].copy()\n",
        "\n",
        "print(df_limpieza1)"
      ],
      "metadata": {
        "colab": {
          "base_uri": "https://localhost:8080/"
        },
        "id": "yROcTu_eVmJB",
        "outputId": "f1a37068-d2e8-48d8-cd4b-fe64c5c9d35f"
      },
      "id": "yROcTu_eVmJB",
      "execution_count": 93,
      "outputs": [
        {
          "output_type": "stream",
          "name": "stdout",
          "text": [
            "            Nombre  Edad    Ciudad  Ingreso FechaIngreso\n",
            "0              Ana  25.0    Bogotá   3500.0   2023-01-01\n",
            "1             Luis  30.0  Medellín   4800.0   2023-01-05\n",
            "3  No identificado  29.0  Medellín   5200.0   2023-01-10\n",
            "4            Marta  27.0      Cali   5100.0   2023-01-12\n",
            "6            Sofía  25.0      Cali   4700.0   2023-01-15\n"
          ]
        }
      ]
    },
    {
      "cell_type": "markdown",
      "source": [
        "Al eliminar las filas donde no hay valores de ingreos y fecha de ingreso, una de las filas donde no había información de ciudad también fue eliminada. Por otro lado, al imputar los datos de edad antes de eliminar las dos columnas referentes a ingreso, seguíamos teniendo información de otras edades en la población de muestra. Si estamos haciendo una caracterización de ingreso según edad y ciudad, el nombre es una manera de identificar usuarios pero no se vuelve un feature determinante, por lo que dejarlo como 'No identificado' no afectaría el resto de valores."
      ],
      "metadata": {
        "id": "hzXzBq_cX43T"
      },
      "id": "hzXzBq_cX43T"
    },
    {
      "cell_type": "markdown",
      "id": "73080d94",
      "metadata": {
        "id": "73080d94"
      },
      "source": [
        "## <span style=\"color:#2F749F;\"><strong>Ejercicio 2. Limpieza de duplicados</strong></span>\n",
        "\n",
        "#### <span style=\"color:#2F749F;\"><strong>📋 Instrucciones</strong></span>\n",
        "\n",
        "1. Crea el DataFrame base **df** ejecutando el siguiente código:\n",
        "    ```python\n",
        "    df = pd.DataFrame({\n",
        "        'ID': [101, 102, 102, 103, 104, 104, 104],\n",
        "        'Nombre': ['Ana', 'Luis', 'Luis', 'Marta', 'Carlos', 'Carlos', 'Carlos'],\n",
        "        'Edad': [25, 30, 30, 29, 40, 40, 41],\n",
        "        'Ciudad': ['Bogotá', 'Cali', 'Cali', 'Medellín', 'Cali', 'Cali', 'Cali'],\n",
        "        'FechaRegistro': ['2023-01-01', '2023-01-05', '2023-01-05', '2023-01-10',\n",
        "                        '2023-01-15', '2023-01-15', '2023-01-16']\n",
        "    })\n",
        "\n",
        "2.  En el mismo notebook anterior, para el nuevo dataframe df, responde a las siguientes preguntas (utilizando python):\n",
        "    - ¿Cuál es el total de registros originales?\n",
        "    - ¿Cuáles y cuántos son los duplicados exactos?\n",
        "    - ¿Cuáles y cuántos son los duplicados por varias columnas?\n",
        "    - ¿Cuántos registros debes eliminar?\n",
        "    - ¿Cuántos registros quedan después de la limpieza?"
      ]
    },
    {
      "cell_type": "code",
      "source": [
        "df = pd.DataFrame({\n",
        "        'ID': [101, 102, 102, 103, 104, 104, 104],\n",
        "        'Nombre': ['Ana', 'Luis', 'Luis', 'Marta', 'Carlos', 'Carlos', 'Carlos'],\n",
        "        'Edad': [25, 30, 30, 29, 40, 40, 41],\n",
        "        'Ciudad': ['Bogotá', 'Cali', 'Cali', 'Medellín', 'Cali', 'Cali', 'Cali'],\n",
        "        'FechaRegistro': ['2023-01-01', '2023-01-05', '2023-01-05', '2023-01-10',\n",
        "                        '2023-01-15', '2023-01-15', '2023-01-16']\n",
        "    })\n",
        "print(df)"
      ],
      "metadata": {
        "colab": {
          "base_uri": "https://localhost:8080/"
        },
        "id": "zUgokBCkZRP1",
        "outputId": "7b671cda-a1be-47d6-8f29-0c4f76085215"
      },
      "id": "zUgokBCkZRP1",
      "execution_count": 94,
      "outputs": [
        {
          "output_type": "stream",
          "name": "stdout",
          "text": [
            "    ID  Nombre  Edad    Ciudad FechaRegistro\n",
            "0  101     Ana    25    Bogotá    2023-01-01\n",
            "1  102    Luis    30      Cali    2023-01-05\n",
            "2  102    Luis    30      Cali    2023-01-05\n",
            "3  103   Marta    29  Medellín    2023-01-10\n",
            "4  104  Carlos    40      Cali    2023-01-15\n",
            "5  104  Carlos    40      Cali    2023-01-15\n",
            "6  104  Carlos    41      Cali    2023-01-16\n"
          ]
        }
      ]
    },
    {
      "cell_type": "code",
      "source": [
        "# Total de registros originales\n",
        "total_registros_originales = len(df)\n",
        "print(f\" Total de registros originales: {total_registros_originales}\")\n",
        "\n",
        "# Duplicados exactos (toda la fila es idéntica)\n",
        "duplicados_exactos= df.duplicated(keep=False)\n",
        "duplicados_exactos = df[duplicados_exactos]\n",
        "total_duplicados = len(duplicados_exactos)\n",
        "eliminar = df.duplicated(keep='first').sum() #keep='first' para contar solo las repeticiones (el número a eliminar)\n",
        "\n",
        "print(\"\\nDuplicados exactos:\")\n",
        "print(f\"Cantidad de duplicados exactos: {total_duplicados} (Filas 102 y 104)\")\n",
        "print(f\"Registros a eliminar (repeticiones): {eliminar}\")\n",
        "print(\"\\nRegistros duplicados exactos:\")\n",
        "print(duplicados_exactos)\n",
        "\n",
        "\n",
        "# Duplicados por varias columnas ('ID', 'Nombre', 'Ciudad' ya que estas son más distintivas de 1 sola persona)\n",
        "# Las variables de 'Edad' y 'Fecharegistro' podrían ser repetidas sin necesidad de que sea la misma persona\n",
        "columnas_clave = ['ID', 'Nombre', 'Ciudad']\n",
        "duplicados_clave = df.duplicated(subset=columnas_clave, keep=False)\n",
        "duplicados_clave = df[duplicados_clave]\n",
        "total_duplicados_clave = len(duplicados_clave)\n",
        "\n",
        "# Contar cuántas repeticiones se van a eliminar hay basadas en las columnas clave\n",
        "eliminar_clave = df.duplicated(subset=columnas_clave, keep='first').sum()\n",
        "\n",
        "print(f\"\\nDuplicados por columnas clave ({', '.join(columnas_clave)}):\")\n",
        "print(f\"Total de ocurrencias de duplicados por clave: {total_duplicados_clave}\")\n",
        "print(f\"Registros a eliminar (repeticiones): {eliminar_clave}\")\n",
        "print(\"\\nRegistros duplicados por clave:\")\n",
        "print(duplicados_clave)\n",
        "\n",
        "\n",
        "# Registros restantes después de la limpieza\n",
        "# Eliminamos duplicados basados en las variables clave\n",
        "df_limpio = df.drop_duplicates(subset=columnas_clave, keep='last')\n",
        "registros_restantes = len(df_limpio)\n",
        "print(f\"\\nRegistros que quedan después de la limpieza: {registros_restantes}\")\n",
        "\n",
        "print(df_limpio)"
      ],
      "metadata": {
        "colab": {
          "base_uri": "https://localhost:8080/"
        },
        "id": "YbCEP7P5Zu8Q",
        "outputId": "c767f473-7be8-41d8-9fb1-c650a45ccbcf"
      },
      "id": "YbCEP7P5Zu8Q",
      "execution_count": 95,
      "outputs": [
        {
          "output_type": "stream",
          "name": "stdout",
          "text": [
            " Total de registros originales: 7\n",
            "\n",
            "Duplicados exactos:\n",
            "Cantidad de duplicados exactos: 4 (Filas 102 y 104)\n",
            "Registros a eliminar (repeticiones): 2\n",
            "\n",
            "Registros duplicados exactos:\n",
            "    ID  Nombre  Edad Ciudad FechaRegistro\n",
            "1  102    Luis    30   Cali    2023-01-05\n",
            "2  102    Luis    30   Cali    2023-01-05\n",
            "4  104  Carlos    40   Cali    2023-01-15\n",
            "5  104  Carlos    40   Cali    2023-01-15\n",
            "\n",
            "Duplicados por columnas clave (ID, Nombre, Ciudad):\n",
            "Total de ocurrencias de duplicados por clave: 5\n",
            "Registros a eliminar (repeticiones): 3\n",
            "\n",
            "Registros duplicados por clave:\n",
            "    ID  Nombre  Edad Ciudad FechaRegistro\n",
            "1  102    Luis    30   Cali    2023-01-05\n",
            "2  102    Luis    30   Cali    2023-01-05\n",
            "4  104  Carlos    40   Cali    2023-01-15\n",
            "5  104  Carlos    40   Cali    2023-01-15\n",
            "6  104  Carlos    41   Cali    2023-01-16\n",
            "\n",
            "Registros que quedan después de la limpieza: 4\n",
            "    ID  Nombre  Edad    Ciudad FechaRegistro\n",
            "0  101     Ana    25    Bogotá    2023-01-01\n",
            "2  102    Luis    30      Cali    2023-01-05\n",
            "3  103   Marta    29  Medellín    2023-01-10\n",
            "6  104  Carlos    41      Cali    2023-01-16\n"
          ]
        }
      ]
    },
    {
      "cell_type": "markdown",
      "source": [
        "Uno de los usuarios con el mismo ID y nombre que estaba duplicado en todas las catacteristicas, volvía a identificarse cuando hacemos los duplicados por clave, solo cambia la edad de 40 a 41 por lo que puede asumirse como un mismo usuario que generó un error de escritura en la edad."
      ],
      "metadata": {
        "id": "aHwPYWXyci2H"
      },
      "id": "aHwPYWXyci2H"
    },
    {
      "cell_type": "markdown",
      "id": "dca274a5",
      "metadata": {
        "id": "dca274a5"
      },
      "source": [
        "## <span style=\"color:#2F749F;\"><strong>Ejercicio 3. Corrección de errores tipográficos o de codificación</strong></span>\n",
        "\n",
        "#### <span style=\"color:#2F749F;\"><strong>📋 Instrucciones</strong></span>\n",
        "\n",
        "1. Crea el DataFrame base **df** ejecutando el siguiente código:\n",
        "    ```python\n",
        "    df = pd.DataFrame({\n",
        "        'Ciudad': ['bogota', 'Bogotá', 'BOGOTA', 'bogotá', 'bogata', 'Bógota', 'BogoTa', 'Cali', 'calí', 'medellín', 'medellin']\n",
        "    })\n",
        "\n",
        "2.  En el mismo notebook anterior, para el nuevo dataframe df, estandariza la variable ciudad utilizando python."
      ]
    },
    {
      "cell_type": "code",
      "source": [
        "df = pd.DataFrame({\n",
        "        'Ciudad': ['bogota', 'Bogotá', 'BOGOTA', 'bogotá', 'bogata', 'Bógota', 'BogoTa', 'Cali', 'calí', 'medellín', 'medellin']\n",
        "    })\n",
        "print(df)"
      ],
      "metadata": {
        "colab": {
          "base_uri": "https://localhost:8080/"
        },
        "id": "B4-SdptWdUHw",
        "outputId": "2c4b6f21-2e63-4c0a-e8fd-e09d44fb9263"
      },
      "id": "B4-SdptWdUHw",
      "execution_count": 96,
      "outputs": [
        {
          "output_type": "stream",
          "name": "stdout",
          "text": [
            "      Ciudad\n",
            "0     bogota\n",
            "1     Bogotá\n",
            "2     BOGOTA\n",
            "3     bogotá\n",
            "4     bogata\n",
            "5     Bógota\n",
            "6     BogoTa\n",
            "7       Cali\n",
            "8       calí\n",
            "9   medellín\n",
            "10  medellin\n"
          ]
        }
      ]
    },
    {
      "cell_type": "code",
      "metadata": {
        "colab": {
          "base_uri": "https://localhost:8080/"
        },
        "id": "ef7a4793",
        "outputId": "0fb500d7-da6a-475f-ebe0-189109c62acc"
      },
      "source": [
        "%pip install unidecode\n",
        "import unidecode\n",
        "from difflib import get_close_matches"
      ],
      "id": "ef7a4793",
      "execution_count": null,
      "outputs": [
        {
          "output_type": "stream",
          "name": "stdout",
          "text": [
            "Requirement already satisfied: unidecode in /usr/local/lib/python3.12/dist-packages (1.4.0)\n"
          ]
        }
      ]
    },
    {
      "cell_type": "code",
      "source": [
        "# Definir valores maestros\n",
        "valores_maestros = ['bogota', 'cali', 'medellin']\n",
        "umbral = 0.8 # Umbral de similitud para considerar una corrección\n",
        "\n",
        "def corregir_typo_ciudad(texto_sucio, maestros, umbral): #Función para corregir errores tipográficos en una columna de texto.\n",
        "    if pd.isnull(texto_sucio):\n",
        "        return texto_sucio\n",
        "\n",
        "    # Minusculas y acentos\n",
        "    texto_limpio = unidecode.unidecode(str(texto_sucio)).lower()\n",
        "\n",
        "    # Eerrores tipográficos con get_close_matches\n",
        "    # Busca el valor maestro más cercano\n",
        "    coincidencia = get_close_matches(texto_limpio, maestros, n=1, cutoff=umbral)\n",
        "\n",
        "    # Si encuentra una coincidencia por encima del umbral, la devuelve\n",
        "    if coincidencia:\n",
        "        return coincidencia[0]\n",
        "    else:\n",
        "        # Si no hay coincidencia, devuelve el valor tal cual (o np.nan, si lo prefieres)\n",
        "        return texto_limpio\n",
        "\n",
        "# Aplicar funcion a 'Ciudad'\n",
        "df['Ciudad_Limpia'] = df['Ciudad'].apply(lambda x: corregir_typo_ciudad(x, valores_maestros, umbral))\n",
        "\n",
        "print(df)"
      ],
      "metadata": {
        "id": "smdfPXncgTPF"
      },
      "id": "smdfPXncgTPF",
      "execution_count": null,
      "outputs": []
    }
  ],
  "metadata": {
    "kernelspec": {
      "display_name": "base",
      "language": "python",
      "name": "python3"
    },
    "language_info": {
      "codemirror_mode": {
        "name": "ipython",
        "version": 3
      },
      "file_extension": ".py",
      "mimetype": "text/x-python",
      "name": "python",
      "nbconvert_exporter": "python",
      "pygments_lexer": "ipython3",
      "version": "3.12.7"
    },
    "colab": {
      "provenance": []
    }
  },
  "nbformat": 4,
  "nbformat_minor": 5
}